{
  "nbformat": 4,
  "nbformat_minor": 0,
  "metadata": {
    "colab": {
      "name": "task7 .ipynb",
      "provenance": [],
      "collapsed_sections": [],
      "authorship_tag": "ABX9TyPLBSWLtapwCY+eMt0lInIE",
      "include_colab_link": true
    },
    "kernelspec": {
      "name": "python3",
      "display_name": "Python 3"
    }
  },
  "cells": [
    {
      "cell_type": "markdown",
      "metadata": {
        "id": "view-in-github",
        "colab_type": "text"
      },
      "source": [
        "<a href=\"https://colab.research.google.com/github/amjoshi93/Course-Tasks-/blob/main/task7_.ipynb\" target=\"_parent\"><img src=\"https://colab.research.google.com/assets/colab-badge.svg\" alt=\"Open In Colab\"/></a>"
      ]
    },
    {
      "cell_type": "code",
      "metadata": {
        "colab": {
          "base_uri": "https://localhost:8080/"
        },
        "id": "JXO-LadswdcO",
        "outputId": "94374f7d-bdd3-4a0a-b46e-e4631df304ee"
      },
      "source": [
        "x = {\"apple\", \"banana\", \"cherry\"}    #difference(IBF) in sets\r\n",
        "y = {\"google\", \"microsoft\", \"apple\"}\r\n",
        "\r\n",
        "z = x.difference(y)\r\n",
        "\r\n",
        "print(z)"
      ],
      "execution_count": null,
      "outputs": [
        {
          "output_type": "stream",
          "text": [
            "{'banana', 'cherry'}\n"
          ],
          "name": "stdout"
        }
      ]
    },
    {
      "cell_type": "code",
      "metadata": {
        "colab": {
          "base_uri": "https://localhost:8080/"
        },
        "id": "ptDWamSfNubK",
        "outputId": "a0f914c7-7f70-4d8c-85bc-4f642feec560"
      },
      "source": [
        "A = {'a', 'b', 'c', 'd'}      #symmetric_difference(IBF) in sets\r\n",
        "B = {'c', 'd', 'e' }\r\n",
        "C = {}\r\n",
        "\r\n",
        "print(A.symmetric_difference(B))\r\n",
        "print(B.symmetric_difference(A))\r\n",
        "\r\n",
        "print(A.symmetric_difference(C))\r\n",
        "print(B.symmetric_difference(C))"
      ],
      "execution_count": null,
      "outputs": [
        {
          "output_type": "stream",
          "text": [
            "{'e', 'b', 'a'}\n",
            "{'e', 'a', 'b'}\n",
            "{'c', 'b', 'd', 'a'}\n",
            "{'c', 'e', 'd'}\n"
          ],
          "name": "stdout"
        }
      ]
    }
  ]
}