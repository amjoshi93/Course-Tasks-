{
  "nbformat": 4,
  "nbformat_minor": 0,
  "metadata": {
    "colab": {
      "name": "Task5.ipynb",
      "provenance": [],
      "collapsed_sections": [],
      "authorship_tag": "ABX9TyNerthLVUlUvYqV+4gtOvdi",
      "include_colab_link": true
    },
    "kernelspec": {
      "name": "python3",
      "display_name": "Python 3"
    }
  },
  "cells": [
    {
      "cell_type": "markdown",
      "metadata": {
        "id": "view-in-github",
        "colab_type": "text"
      },
      "source": [
        "<a href=\"https://colab.research.google.com/github/amjoshi93/Course-Tasks-/blob/main/Task5.ipynb\" target=\"_parent\"><img src=\"https://colab.research.google.com/assets/colab-badge.svg\" alt=\"Open In Colab\"/></a>"
      ]
    },
    {
      "cell_type": "code",
      "metadata": {
        "colab": {
          "base_uri": "https://localhost:8080/",
          "height": 35
        },
        "id": "w9KrnOoUuxv0",
        "outputId": "05d2df25-6cfe-4d0e-a20a-083946f27059"
      },
      "source": [
        "dict1 = { \r\n",
        "   \"april_batch\":{ \r\n",
        "      \"student\":{ \r\n",
        "         \"name\":\"Mike\",\r\n",
        "         \"marks\":{ \r\n",
        "            \"python\":80,\r\n",
        "            \"maths\":70\r\n",
        "         }\r\n",
        "      }\r\n",
        "   }\r\n",
        "}\r\n",
        "dict1[\"april_batch\"][\"student\"][\"name\"]  #access Mike"
      ],
      "execution_count": 2,
      "outputs": [
        {
          "output_type": "execute_result",
          "data": {
            "application/vnd.google.colaboratory.intrinsic+json": {
              "type": "string"
            },
            "text/plain": [
              "'Mike'"
            ]
          },
          "metadata": {
            "tags": []
          },
          "execution_count": 2
        }
      ]
    },
    {
      "cell_type": "code",
      "metadata": {
        "colab": {
          "base_uri": "https://localhost:8080/"
        },
        "id": "-fYuhOqgve3T",
        "outputId": "f2395d77-c8d4-4bcc-d190-66309aae3b76"
      },
      "source": [
        "dict1 = { \r\n",
        "   \"april_batch\":{ \r\n",
        "      \"student\":{ \r\n",
        "         \"name\":\"Mike\",\r\n",
        "         \"marks\":{ \r\n",
        "            \"python\":80,\r\n",
        "            \"maths\":70\r\n",
        "         }\r\n",
        "      }\r\n",
        "   }\r\n",
        "}\r\n",
        "dict1[\"april_batch\"][\"student\"][\"marks\"][\"python\"] #access 80\r\n"
      ],
      "execution_count": 10,
      "outputs": [
        {
          "output_type": "execute_result",
          "data": {
            "text/plain": [
              "80"
            ]
          },
          "metadata": {
            "tags": []
          },
          "execution_count": 10
        }
      ]
    },
    {
      "cell_type": "code",
      "metadata": {
        "colab": {
          "base_uri": "https://localhost:8080/"
        },
        "id": "QIDkduQtxNOb",
        "outputId": "0ebeb40f-4987-44ad-8410-f4bbfdd50c39"
      },
      "source": [
        "dict1 = { \r\n",
        "   \"april_batch\":{ \r\n",
        "      \"student\":{ \r\n",
        "         \"name\":\"Mike\",\r\n",
        "         \"marks\":{ \r\n",
        "            \"python\":80,\r\n",
        "            \"maths\":70\r\n",
        "         }\r\n",
        "      }\r\n",
        "   }\r\n",
        "}\r\n",
        "dict1[\"april_batch\"][\"student\"][\"name\"]=\"Your Name\"  #change Mike to your name\r\n",
        "dict1"
      ],
      "execution_count": 13,
      "outputs": [
        {
          "output_type": "execute_result",
          "data": {
            "text/plain": [
              "{'april_batch': {'student': {'marks': {'maths': 70, 'python': 80},\n",
              "   'name': 'Your Name'}}}"
            ]
          },
          "metadata": {
            "tags": []
          },
          "execution_count": 13
        }
      ]
    },
    {
      "cell_type": "code",
      "metadata": {
        "colab": {
          "base_uri": "https://localhost:8080/"
        },
        "id": "oomKlTBbxvcS",
        "outputId": "964636d1-f474-46bb-fd92-853c8661de6c"
      },
      "source": [
        "#add ML = 80 and DL = 80 inside marks\r\n",
        "dict1 = { \r\n",
        "   \"april_batch\":{ \r\n",
        "      \"student\":{ \r\n",
        "         \"name\":\"Mike\",\r\n",
        "         \"marks\":{ \r\n",
        "            \"python\":80,\r\n",
        "            \"maths\":70\r\n",
        "         }\r\n",
        "      }\r\n",
        "   }\r\n",
        "}\r\n",
        "dict1[\"april_batch\"][\"student\"][\"marks\"][\"ML\"]=80\r\n",
        "dict1[\"april_batch\"][\"student\"][\"marks\"][\"DL\"]=80\r\n",
        "dict1"
      ],
      "execution_count": 14,
      "outputs": [
        {
          "output_type": "execute_result",
          "data": {
            "text/plain": [
              "{'april_batch': {'student': {'marks': {'DL': 80,\n",
              "    'ML': 80,\n",
              "    'maths': 70,\n",
              "    'python': 80},\n",
              "   'name': 'Mike'}}}"
            ]
          },
          "metadata": {
            "tags": []
          },
          "execution_count": 14
        }
      ]
    },
    {
      "cell_type": "code",
      "metadata": {
        "id": "PUjXgcqOvB8Z"
      },
      "source": [
        ""
      ],
      "execution_count": null,
      "outputs": []
    }
  ]
}