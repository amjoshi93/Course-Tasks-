{
  "nbformat": 4,
  "nbformat_minor": 0,
  "metadata": {
    "colab": {
      "name": "task10.2.ipynb",
      "provenance": [],
      "collapsed_sections": [],
      "authorship_tag": "ABX9TyNNj4B46G+q6MMvq3YZFjBZ",
      "include_colab_link": true
    },
    "kernelspec": {
      "name": "python3",
      "display_name": "Python 3"
    }
  },
  "cells": [
    {
      "cell_type": "markdown",
      "metadata": {
        "id": "view-in-github",
        "colab_type": "text"
      },
      "source": [
        "<a href=\"https://colab.research.google.com/github/amjoshi93/Course-Tasks-/blob/main/task10_2.ipynb\" target=\"_parent\"><img src=\"https://colab.research.google.com/assets/colab-badge.svg\" alt=\"Open In Colab\"/></a>"
      ]
    },
    {
      "cell_type": "code",
      "metadata": {
        "id": "QnzKWkpNFYfj"
      },
      "source": [
        "#The pass statement is used as a placeholder for future code.\r\n",
        "\r\n",
        "#When the pass statement is executed, nothing happens, but you avoid getting an error when empty code is not allowed.\r\n",
        "\r\n",
        "#Empty code is not allowed in loops, function definitions, class definitions, or in if statements.\r\n",
        "\r\n",
        "\r\n",
        "for x in [0, 1, 2]:\r\n",
        "  pass"
      ],
      "execution_count": 2,
      "outputs": []
    }
  ]
}