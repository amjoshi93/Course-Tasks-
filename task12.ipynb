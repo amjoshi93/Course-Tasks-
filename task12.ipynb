{
  "nbformat": 4,
  "nbformat_minor": 0,
  "metadata": {
    "colab": {
      "name": "task12.ipynb",
      "provenance": [],
      "collapsed_sections": [],
      "authorship_tag": "ABX9TyPaCnqztLBYsUVlJqciYp+e",
      "include_colab_link": true
    },
    "kernelspec": {
      "name": "python3",
      "display_name": "Python 3"
    }
  },
  "cells": [
    {
      "cell_type": "markdown",
      "metadata": {
        "id": "view-in-github",
        "colab_type": "text"
      },
      "source": [
        "<a href=\"https://colab.research.google.com/github/amjoshi93/Course-Tasks-/blob/main/task12.ipynb\" target=\"_parent\"><img src=\"https://colab.research.google.com/assets/colab-badge.svg\" alt=\"Open In Colab\"/></a>"
      ]
    },
    {
      "cell_type": "code",
      "metadata": {
        "colab": {
          "base_uri": "https://localhost:8080/"
        },
        "id": "-1qguCxazb3P",
        "outputId": "70726517-d974-41ee-8de8-7fc588a128c8"
      },
      "source": [
        "from functools import reduce #necessary step\r\n",
        "\r\n",
        "def my_add(a, b):\r\n",
        "        result = a + b\r\n",
        "        print(f\"{a} + {b} = {result}\")\r\n",
        "        return result\r\n",
        "\r\n",
        "numbers = [0, 1, 2, 3, 5]\r\n",
        "reduce(my_add, numbers, 100)  #reduce(function, iterable, initializer=0(default))"
      ],
      "execution_count": 14,
      "outputs": [
        {
          "output_type": "stream",
          "text": [
            "100 + 0 = 100\n",
            "100 + 1 = 101\n",
            "101 + 2 = 103\n",
            "103 + 3 = 106\n",
            "106 + 5 = 111\n"
          ],
          "name": "stdout"
        },
        {
          "output_type": "execute_result",
          "data": {
            "text/plain": [
              "111"
            ]
          },
          "metadata": {
            "tags": []
          },
          "execution_count": 14
        }
      ]
    },
    {
      "cell_type": "code",
      "metadata": {
        "colab": {
          "base_uri": "https://localhost:8080/"
        },
        "id": "s9nXp9fi9Mkq",
        "outputId": "823f90cb-64b6-420d-932e-0b1bc3f186d4"
      },
      "source": [
        "a = (\"John\", \"Charles\", \"Mike\")   #zip()\r\n",
        "b = (\"Jenny\", \"Christy\", \"Monica\")\r\n",
        "\r\n",
        "x = zip(a, b)\r\n",
        "list(x)"
      ],
      "execution_count": 18,
      "outputs": [
        {
          "output_type": "execute_result",
          "data": {
            "text/plain": [
              "[('John', 'Jenny'), ('Charles', 'Christy'), ('Mike', 'Monica')]"
            ]
          },
          "metadata": {
            "tags": []
          },
          "execution_count": 18
        }
      ]
    },
    {
      "cell_type": "code",
      "metadata": {
        "colab": {
          "base_uri": "https://localhost:8080/"
        },
        "id": "yF-0tXfA9i2K",
        "outputId": "ad1bfebc-1c15-4a3d-b765-588fa47af0ef"
      },
      "source": [
        "#python\r\n",
        "# Python program to illustrate\r\n",
        "# enumerate function\r\n",
        "l1 = [\"eat\",\"sleep\",\"repeat\"]\r\n",
        "s1 = \"geek\"\r\n",
        " \r\n",
        "# creating enumerate objects\r\n",
        "obj1 = enumerate(l1)\r\n",
        "obj2 = enumerate(s1)\r\n",
        " \r\n",
        "print (\"Return type:\",type(obj1))\r\n",
        "print (list(enumerate(l1)))\r\n",
        " \r\n",
        "# changing start index to 2 from 0\r\n",
        "print (list(enumerate(s1,3)))"
      ],
      "execution_count": 20,
      "outputs": [
        {
          "output_type": "stream",
          "text": [
            "Return type: <class 'enumerate'>\n",
            "[(0, 'eat'), (1, 'sleep'), (2, 'repeat')]\n",
            "[(3, 'g'), (4, 'e'), (5, 'e'), (6, 'k')]\n"
          ],
          "name": "stdout"
        }
      ]
    }
  ]
}