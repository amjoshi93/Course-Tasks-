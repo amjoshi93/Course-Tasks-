{
  "nbformat": 4,
  "nbformat_minor": 0,
  "metadata": {
    "colab": {
      "name": "task9.ipynb",
      "provenance": [],
      "collapsed_sections": [],
      "authorship_tag": "ABX9TyPqNXgtTdgYLShn7fprGaFU",
      "include_colab_link": true
    },
    "kernelspec": {
      "name": "python3",
      "display_name": "Python 3"
    }
  },
  "cells": [
    {
      "cell_type": "markdown",
      "metadata": {
        "id": "view-in-github",
        "colab_type": "text"
      },
      "source": [
        "<a href=\"https://colab.research.google.com/github/amjoshi93/Course-Tasks-/blob/main/task9.ipynb\" target=\"_parent\"><img src=\"https://colab.research.google.com/assets/colab-badge.svg\" alt=\"Open In Colab\"/></a>"
      ]
    },
    {
      "cell_type": "code",
      "metadata": {
        "id": "APUB9u6ESYOv",
        "colab": {
          "base_uri": "https://localhost:8080/"
        },
        "outputId": "437d1aa7-977c-4105-b007-22bab22ff9e5"
      },
      "source": [
        "#Ask 2 numbers from users and store it in num1 and num2\r\n",
        "#Ask user to press 1 for addition,2 for subtraction,3 for multiplication and 4 for division,\r\n",
        "#based on number given by user do the math operation\r\n",
        "num1=int(input(\"Enter first number :\"  ))\r\n",
        "num2=int(input(\"Enter second number :\" ))\r\n",
        "ch = input(\"press 1 for addition,2 for subtraction,3 for multiplication and 4 for division,: \")\r\n",
        "\r\n",
        "result = 0\r\n",
        "if ch == '1':\r\n",
        "    result = num1 + num2\r\n",
        "elif ch == '2':\r\n",
        "    result = num1 - num2\r\n",
        "elif ch == '3':\r\n",
        "    result = num1 * num2\r\n",
        "elif ch == '4':\r\n",
        "    result = num1 / num2\r\n",
        "else:\r\n",
        "    print(\"Input character is not recognized!\")\r\n",
        "\r\n",
        "print(result)"
      ],
      "execution_count": 5,
      "outputs": [
        {
          "output_type": "stream",
          "text": [
            "Enter first number :25\n",
            "Enter second number :25\n",
            "press 1 for addition,2 for subtraction,3 for multiplication and 4 for division,: 4\n",
            "1.0\n"
          ],
          "name": "stdout"
        }
      ]
    }
  ]
}