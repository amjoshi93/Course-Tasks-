{
  "nbformat": 4,
  "nbformat_minor": 0,
  "metadata": {
    "colab": {
      "name": "Task11.2.ipynb",
      "provenance": [],
      "collapsed_sections": [],
      "authorship_tag": "ABX9TyNYRdwpKS/Nhwe089CN2Pkx",
      "include_colab_link": true
    },
    "kernelspec": {
      "name": "python3",
      "display_name": "Python 3"
    }
  },
  "cells": [
    {
      "cell_type": "markdown",
      "metadata": {
        "id": "view-in-github",
        "colab_type": "text"
      },
      "source": [
        "<a href=\"https://colab.research.google.com/github/amjoshi93/Course-Tasks-/blob/main/Task11_2.ipynb\" target=\"_parent\"><img src=\"https://colab.research.google.com/assets/colab-badge.svg\" alt=\"Open In Colab\"/></a>"
      ]
    },
    {
      "cell_type": "code",
      "metadata": {
        "colab": {
          "base_uri": "https://localhost:8080/"
        },
        "id": "ClD1SmgYmOt0",
        "outputId": "3e42985a-9a5c-4b67-8dc8-034678eaf19b"
      },
      "source": [
        "num1=float(input(\"Enter the first number :\"))\r\n",
        "num2=float(input(\"Enter the second number :\"))\r\n",
        "\r\n",
        "x=int(input(\"Press 1 for addition, 2 for substaction,3 for multiplication, 4 for division:\"))\r\n",
        "\r\n",
        "def addition(a,b):\r\n",
        "  c=a+b\r\n",
        "  return c\r\n",
        "\r\n",
        "def substraction(a,b):\r\n",
        "  c=a-b\r\n",
        "  return c\r\n",
        "\r\n",
        "def multiplication(a,b):\r\n",
        "  c=a*b\r\n",
        "  return c\r\n",
        "\r\n",
        "def division(a,b):\r\n",
        "  c=a/b\r\n",
        "  return c\r\n",
        "\r\n",
        "if x==1:\r\n",
        "  print(addition(num1,num2))\r\n",
        "\r\n",
        "if x==2:\r\n",
        "  print(substraction(num1,num2))\r\n",
        "\r\n",
        "if x==3:\r\n",
        "  print(multiplication(num1,num2))\r\n",
        "\r\n",
        "if x==4:\r\n",
        "  print(division(num1,num2))\r\n",
        "\r\n",
        "\r\n",
        "\r\n"
      ],
      "execution_count": 3,
      "outputs": [
        {
          "output_type": "stream",
          "text": [
            "Enter the first number :50\n",
            "Enter the second number :50\n",
            "Press 1 for addition, 2 for substaction,3 for multiplication, 4 for division:2\n",
            "0.0\n"
          ],
          "name": "stdout"
        }
      ]
    }
  ]
}